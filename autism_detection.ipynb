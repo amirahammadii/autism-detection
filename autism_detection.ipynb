{
  "cells": [
    {
      "cell_type": "markdown",
      "metadata": {
        "id": "view-in-github",
        "colab_type": "text"
      },
      "source": [
        "<a href=\"https://colab.research.google.com/github/amirahammadii/autism-detection/blob/main/autism_detection.ipynb\" target=\"_parent\"><img src=\"https://colab.research.google.com/assets/colab-badge.svg\" alt=\"Open In Colab\"/></a>"
      ]
    },
    {
      "cell_type": "code",
      "execution_count": null,
      "metadata": {
        "colab": {
          "base_uri": "https://localhost:8080/"
        },
        "id": "5zCJ1l5Pzz5P",
        "outputId": "8ed4e7df-61f2-4a3e-ad1b-d194fc409ea6"
      },
      "outputs": [
        {
          "output_type": "stream",
          "name": "stdout",
          "text": [
            "Index(['Timestamp', 'Please choose a category you belong to',\n",
            "       'Are you a Nigerian', 'Which age group does your child belong to',\n",
            "       'Sex of child', 'Please state your country of residence',\n",
            "       'Which type of disability do he/she have',\n",
            "       'Please what is the age of the Mother when the child was born',\n",
            "       'Is your child Formerly diagnosed',\n",
            "       'If Diagnosis is yes , what was his/her diagnosis? (DSM 4 Diagnosis)',\n",
            "       'At what age was the child diagnosed', 'Where was the diagnosis done?',\n",
            "       'Is your child ',\n",
            "       'Please can you give us some of your child’s unique behaviors that prompted you to go for a diagnosis',\n",
            "       'How can you rate your child's deficits in social communication and social interaction',\n",
            "       'How can you rate your Childs nonverbal communicative behaviors capabilities (i.e abnormalities in eye contact, body language or deficits in understanding, use of gestures, total lack of facial expressions and nonverbal communication)',\n",
            "       'Can your Child develop, maintain and understand relationships(as in difficulties in sharing imaginative play or in making friends and absence of interest in peers.)',\n",
            "       'Do your Child has Stereotyped or repetitive motor movements and  echolalia',\n",
            "       'How is his/her Hyporeactivity to  sensory aspects of the environment (i.e can he differentiate pain/temperature,  respond to specific sounds or textures, do excessive smelling or touching of objects)',\n",
            "       'Please what other challenges is your childs diagnosed apart from Autism',\n",
            "       'If Diagnosis is yes , what was his/her diagnosis? (DSM 5 Diagnosis)'],\n",
            "      dtype='object')\n",
            "Epoch 1/25\n",
            "3/3 [==============================] - 19s 730ms/step - loss: 1.1847 - accuracy: 0.3205 - val_loss: 1.1459 - val_accuracy: 0.2821\n",
            "Epoch 2/25\n",
            "3/3 [==============================] - 1s 438ms/step - loss: 1.1308 - accuracy: 0.3462 - val_loss: 1.1108 - val_accuracy: 0.2564\n",
            "Epoch 3/25\n",
            "3/3 [==============================] - 1s 451ms/step - loss: 1.1011 - accuracy: 0.3974 - val_loss: 1.1041 - val_accuracy: 0.3077\n",
            "Epoch 4/25\n",
            "3/3 [==============================] - 1s 445ms/step - loss: 1.0888 - accuracy: 0.4103 - val_loss: 1.0808 - val_accuracy: 0.3846\n",
            "Epoch 5/25\n",
            "3/3 [==============================] - 1s 450ms/step - loss: 1.0535 - accuracy: 0.5128 - val_loss: 1.0595 - val_accuracy: 0.3846\n",
            "Epoch 6/25\n",
            "3/3 [==============================] - 1s 448ms/step - loss: 1.0253 - accuracy: 0.5128 - val_loss: 1.0422 - val_accuracy: 0.4359\n",
            "Epoch 7/25\n",
            "3/3 [==============================] - 2s 776ms/step - loss: 1.0312 - accuracy: 0.4744 - val_loss: 1.0245 - val_accuracy: 0.4615\n",
            "Epoch 8/25\n",
            "3/3 [==============================] - 2s 647ms/step - loss: 1.0178 - accuracy: 0.5000 - val_loss: 1.0057 - val_accuracy: 0.4872\n",
            "Epoch 9/25\n",
            "3/3 [==============================] - 1s 429ms/step - loss: 1.0033 - accuracy: 0.5769 - val_loss: 0.9687 - val_accuracy: 0.5128\n",
            "Epoch 10/25\n",
            "3/3 [==============================] - 1s 443ms/step - loss: 1.0035 - accuracy: 0.5641 - val_loss: 0.9317 - val_accuracy: 0.7692\n",
            "Epoch 11/25\n",
            "3/3 [==============================] - 1s 450ms/step - loss: 0.9487 - accuracy: 0.6282 - val_loss: 0.9215 - val_accuracy: 0.7179\n",
            "Epoch 12/25\n",
            "3/3 [==============================] - 1s 439ms/step - loss: 0.9215 - accuracy: 0.6667 - val_loss: 0.8877 - val_accuracy: 0.7692\n",
            "Epoch 13/25\n",
            "3/3 [==============================] - 1s 444ms/step - loss: 0.8825 - accuracy: 0.6538 - val_loss: 0.8269 - val_accuracy: 0.7692\n",
            "Epoch 14/25\n",
            "3/3 [==============================] - 1s 455ms/step - loss: 0.8250 - accuracy: 0.7436 - val_loss: 0.7764 - val_accuracy: 0.7949\n",
            "Epoch 15/25\n",
            "3/3 [==============================] - 1s 420ms/step - loss: 0.8410 - accuracy: 0.6923 - val_loss: 0.7504 - val_accuracy: 0.7949\n",
            "Epoch 16/25\n",
            "3/3 [==============================] - 2s 643ms/step - loss: 0.7959 - accuracy: 0.6923 - val_loss: 0.7247 - val_accuracy: 0.8205\n",
            "Epoch 17/25\n",
            "3/3 [==============================] - 2s 844ms/step - loss: 0.7321 - accuracy: 0.7692 - val_loss: 0.6949 - val_accuracy: 0.8205\n",
            "Epoch 18/25\n",
            "3/3 [==============================] - 1s 451ms/step - loss: 0.6408 - accuracy: 0.7949 - val_loss: 0.6714 - val_accuracy: 0.8205\n",
            "Epoch 19/25\n",
            "3/3 [==============================] - 1s 440ms/step - loss: 0.6123 - accuracy: 0.8077 - val_loss: 0.6780 - val_accuracy: 0.6667\n",
            "Epoch 20/25\n",
            "3/3 [==============================] - 1s 450ms/step - loss: 0.5502 - accuracy: 0.8205 - val_loss: 0.6253 - val_accuracy: 0.8205\n",
            "Epoch 21/25\n",
            "3/3 [==============================] - 1s 452ms/step - loss: 0.5212 - accuracy: 0.8077 - val_loss: 0.5784 - val_accuracy: 0.7692\n",
            "Epoch 22/25\n",
            "3/3 [==============================] - 1s 412ms/step - loss: 0.4124 - accuracy: 0.8718 - val_loss: 0.5840 - val_accuracy: 0.7436\n",
            "Epoch 23/25\n",
            "3/3 [==============================] - 1s 435ms/step - loss: 0.3429 - accuracy: 0.8846 - val_loss: 0.5505 - val_accuracy: 0.8205\n",
            "Epoch 24/25\n",
            "3/3 [==============================] - 1s 415ms/step - loss: 0.2980 - accuracy: 0.9231 - val_loss: 0.4550 - val_accuracy: 0.8205\n",
            "Epoch 25/25\n",
            "3/3 [==============================] - 1s 443ms/step - loss: 0.2720 - accuracy: 0.9359 - val_loss: 0.4273 - val_accuracy: 0.7949\n",
            "2/2 - 0s - loss: 0.4273 - accuracy: 0.7949 - 188ms/epoch - 94ms/step\n",
            "Model Score: 0.42732948064804077\n",
            "Model Accuracy: 0.7948718070983887\n"
          ]
        },
        {
          "output_type": "stream",
          "name": "stderr",
          "text": [
            "/usr/local/lib/python3.10/dist-packages/keras/src/engine/training.py:3103: UserWarning: You are saving your model as an HDF5 file via `model.save()`. This file format is considered legacy. We recommend using instead the native Keras format, e.g. `model.save('my_model.keras')`.\n",
            "  saving_api.save_model(\n"
          ]
        },
        {
          "output_type": "display_data",
          "data": {
            "text/plain": [
              "<Figure size 1200x600 with 2 Axes>"
            ],
            "image/png": "[encoded data removed]"
          },
          "metadata": {}
        }
      ],
      "source": [
        "import pandas as pd\n",
        "import re\n",
        "import numpy as np\n",
        "import matplotlib.pyplot as plt\n",
        "from tensorflow.keras.preprocessing.text import Tokenizer\n",
        "from tensorflow.keras.preprocessing.sequence import pad_sequences\n",
        "from tensorflow.keras.models import Model\n",
        "from tensorflow.keras.layers import Input, Embedding, SpatialDropout1D, LSTM, Dense, Dropout, concatenate\n",
        "from tensorflow.keras.optimizers import Adam\n",
        "from tensorflow.keras.callbacks import EarlyStopping\n",
        "from sklearn.model_selection import train_test_split\n",
        "from sklearn.preprocessing import StandardScaler, LabelEncoder\n",
        "from sklearn.utils import resample\n",
        "\n",
        "# Charger les données\n",
        "data = pd.read_excel('/content/Dataset_for_Autism_Diagnosis.xlsx')\n",
        "\n",
        "# Afficher les noms des colonnes pour vérification\n",
        "print(data.columns)\n",
        "\n",
        "# Nettoyage et préparation des textes\n",
        "def clean_text(text):\n",
        "    text = re.sub('[^a-zA-Z0-9\\s]', '', str(text).lower())\n",
        "    return text\n",
        "\n",
        "# Convertir les labels\n",
        "def convert_label(label):\n",
        "    if label == 'Level 1 (Mild Autism)':\n",
        "        return 0\n",
        "    elif label == 'Level 2 (Moderate Autism)':\n",
        "        return 1\n",
        "    elif label == 'Level 3 (Severe Autism)':\n",
        "        return 2\n",
        "    else:\n",
        "        return -1\n",
        "\n",
        "# Ajuster les noms de colonnes selon la sortie de data.columns\n",
        "data['processed_text'] = data['Please can you give us some of your child’s unique behaviors that prompted you to go for a diagnosis'].apply(clean_text)\n",
        "data['social_deficits'] = data['How can you rate your child\\'s deficits in social communication and social interaction']\n",
        "data['nonverbal_communication'] = data['How can you rate your Childs nonverbal communicative behaviors capabilities (i.e abnormalities in eye contact, body language or deficits in understanding, use of gestures, total lack of facial expressions and nonverbal communication)']\n",
        "data['relationships'] = data['Can your Child develop, maintain and understand relationships(as in difficulties in sharing imaginative play or in making friends and absence of interest in peers.)']\n",
        "data['sensory_reactivity'] = data['How is his/her Hyporeactivity to  sensory aspects of the environment (i.e can he differentiate pain/temperature,  respond to specific sounds or textures, do excessive smelling or touching of objects)']\n",
        "data['other_challenges'] = data['Please what other challenges is your childs diagnosed apart from Autism']\n",
        "data['labels'] = data['If Diagnosis is yes , what was his/her diagnosis? (DSM 5 Diagnosis)'].apply(convert_label)\n",
        "\n",
        "# Filtrer les données\n",
        "data = data[data['labels'] != -1]\n",
        "\n",
        "# Encoder et standardiser les autres caractéristiques\n",
        "label_encoders = {}\n",
        "for column in ['social_deficits', 'nonverbal_communication', 'relationships', 'sensory_reactivity', 'other_challenges']:\n",
        "    le = LabelEncoder()\n",
        "    data[column] = le.fit_transform(data[column].astype(str))\n",
        "    label_encoders[column] = le\n",
        "\n",
        "scaler = StandardScaler()\n",
        "other_features = data[['social_deficits', 'nonverbal_communication', 'relationships', 'sensory_reactivity', 'other_challenges']]\n",
        "other_features_scaled = scaler.fit_transform(other_features)\n",
        "\n",
        "# Vérifier la distribution des données et équilibrer le dataset\n",
        "class_0 = data[data['labels'] == 0]\n",
        "class_1 = data[data['labels'] == 1]\n",
        "class_2 = data[data['labels'] == 2]\n",
        "\n",
        "max_size = max(len(class_0), len(class_1), len(class_2))\n",
        "\n",
        "class_0_resampled = resample(class_0, replace=True, n_samples=max_size, random_state=42)\n",
        "class_1_resampled = resample(class_1, replace=True, n_samples=max_size, random_state=42)\n",
        "class_2_resampled = resample(class_2, replace=True, n_samples=max_size, random_state=42)\n",
        "\n",
        "data_balanced = pd.concat([class_0_resampled, class_1_resampled, class_2_resampled])\n",
        "data_balanced = data_balanced.sample(frac=1, random_state=42).reset_index(drop=True)\n",
        "\n",
        "# Tokenization et séquençage des textes\n",
        "tokenizer_lstm = Tokenizer(num_words=2000, split=' ')\n",
        "tokenizer_lstm.fit_on_texts(data_balanced['processed_text'].values)\n",
        "X_text = tokenizer_lstm.texts_to_sequences(data_balanced['processed_text'].values)\n",
        "X_text = pad_sequences(X_text, maxlen=50)\n",
        "\n",
        "# Extraire et standardiser les autres caractéristiques\n",
        "other_features_balanced = data_balanced[['social_deficits', 'nonverbal_communication', 'relationships', 'sensory_reactivity', 'other_challenges']]\n",
        "other_features_scaled_balanced = scaler.transform(other_features_balanced)\n",
        "\n",
        "# Combiner les textes et les autres caractéristiques\n",
        "Y = pd.get_dummies(data_balanced['labels']).values\n",
        "X_train_text, X_test_text, X_train_other, X_test_other, Y_train, Y_test = train_test_split(X_text, other_features_scaled_balanced, Y, test_size=0.33, random_state=42)\n",
        "\n",
        "# Construire et entraîner le modèle LSTM\n",
        "text_input = Input(shape=(50,), name='text_input')\n",
        "embedding = Embedding(input_dim=2000, output_dim=128, input_length=50)(text_input)\n",
        "spatial_dropout = SpatialDropout1D(0.3)(embedding)\n",
        "lstm1 = LSTM(196, dropout=0.2, recurrent_dropout=0.2, return_sequences=True)(spatial_dropout)\n",
        "lstm2 = LSTM(128, dropout=0.2, recurrent_dropout=0.2)(lstm1)\n",
        "\n",
        "other_input = Input(shape=(X_train_other.shape[1],), name='other_input')\n",
        "dense_other = Dense(32, activation='relu')(other_input)\n",
        "\n",
        "combined = concatenate([lstm2, dense_other])\n",
        "dense1 = Dense(64, activation='relu')(combined)\n",
        "dropout = Dropout(0.5)(dense1)\n",
        "output = Dense(3, activation='softmax')(dropout)\n",
        "\n",
        "model = Model(inputs=[text_input, other_input], outputs=[output])\n",
        "\n",
        "optimizer = Adam(learning_rate=1e-3)\n",
        "model.compile(loss='categorical_crossentropy', optimizer=optimizer, metrics=['accuracy'])\n",
        "\n",
        "early_stopping = EarlyStopping(monitor='val_loss', patience=5)\n",
        "history = model.fit([X_train_text, X_train_other], Y_train, epochs=25, batch_size=32, validation_data=([X_test_text, X_test_other], Y_test), callbacks=[early_stopping])\n",
        "\n",
        "# Évaluer le modèle\n",
        "score, acc = model.evaluate([X_test_text, X_test_other], Y_test, verbose=2)\n",
        "print(f\"Model Score: {score}\")\n",
        "print(f\"Model Accuracy: {acc}\")\n",
        "\n",
        "# Sauvegarder le modèle\n",
        "model.save('autism_lstm_model_v2.h5')\n",
        "\n",
        "# Afficher l'historique de l'entraînement\n",
        "plt.figure(figsize=(12, 6))\n",
        "\n",
        "plt.subplot(1, 2, 1)\n",
        "plt.plot(history.history['accuracy'], label='Train Accuracy')\n",
        "plt.plot(history.history['val_accuracy'], label='Validation Accuracy')\n",
        "plt.title('Model Accuracy')\n",
        "plt.ylabel('Accuracy')\n",
        "plt.xlabel('Epoch')\n",
        "plt.legend(loc='lower right')\n",
        "\n",
        "plt.subplot(1, 2, 2)\n",
        "plt.plot(history.history['loss'], label='Train Loss')\n",
        "plt.plot(history.history['val_loss'], label='Validation Loss')\n",
        "plt.title('Model Loss')\n",
        "plt.ylabel('Loss')\n",
        "plt.xlabel('Epoch')\n",
        "plt.legend(loc='upper right')\n",
        "\n",
        "plt.tight_layout()\n",
        "plt.show()\n"
      ]
    },
    {
      "cell_type": "code",
      "execution_count": null,
      "metadata": {
        "colab": {
          "base_uri": "https://localhost:8080/"
        },
        "id": "YybaPTYmITeR",
        "outputId": "62739be3-40fa-40df-a941-8528e555371d"
      },
      "outputs": [
        {
          "output_type": "stream",
          "name": "stdout",
          "text": [
            "2/2 [==============================] - 0s 38ms/step\n",
            "                 precision    recall  f1-score   support\n",
            "\n",
            "    Mild Autism       0.92      0.69      0.79        16\n",
            "Moderate Autism       0.73      0.89      0.80         9\n",
            "  Severe Autism       0.88      1.00      0.93        14\n",
            "\n",
            "       accuracy                           0.85        39\n",
            "      macro avg       0.84      0.86      0.84        39\n",
            "   weighted avg       0.86      0.85      0.84        39\n",
            "\n"
          ]
        }
      ],
      "source": [
        "# Assuming 'predictions' are the predictions of your model\n",
        "# And 'Y_test' are the actual labels in one-hot format used in your previous sections\n",
        "y_true = Y_test.argmax(axis=1)\n",
        "predictions = model.predict([X_test_text, X_test_other])\n",
        "y_pred = predictions.argmax(axis=1)\n",
        "\n",
        "# Generate the classification report\n",
        "from sklearn.metrics import classification_report\n",
        "report = classification_report(y_true, y_pred, target_names=['Mild Autism', 'Moderate Autism', 'Severe Autism'])\n",
        "\n",
        "print(report)\n"
      ]
    },
    {
      "cell_type": "code",
      "execution_count": null,
      "metadata": {
        "colab": {
          "base_uri": "https://localhost:8080/",
          "height": 504
        },
        "id": "BSAvSvMUJJzJ",
        "outputId": "845a1dee-4ea6-4a2e-df96-56f699156a65"
      },
      "outputs": [
        {
          "output_type": "stream",
          "name": "stdout",
          "text": [
            "2/2 [==============================] - 0s 59ms/step\n"
          ]
        },
        {
          "output_type": "display_data",
          "data": {
            "text/plain": [
              "<Figure size 700x500 with 2 Axes>"
            ],
            "image/png": "[encoded data removed]"
          },
          "metadata": {}
        }
      ],
      "source": [
        "import numpy as np\n",
        "import matplotlib.pyplot as plt\n",
        "from sklearn.metrics import confusion_matrix\n",
        "import seaborn as sns\n",
        "\n",
        "# Assuming 'Y_test' and the 'model' are already defined and used previously\n",
        "y_true = Y_test.argmax(axis=1)  # Convert from one-hot to simple labels if necessary\n",
        "# If predictions are not previously calculated or you want to ensure independence:\n",
        "predictions = model.predict([X_test_text, X_test_other])\n",
        "y_pred = predictions.argmax(axis=1)\n",
        "\n",
        "# Calculate the confusion matrix\n",
        "conf_matrix = confusion_matrix(y_true, y_pred)\n",
        "\n",
        "# Visualize the confusion matrix\n",
        "plt.figure(figsize=(7, 5))\n",
        "sns.heatmap(conf_matrix, annot=True, fmt='g', cmap='Blues', xticklabels=['Mild Autism', 'Moderate Autism', 'Severe Autism'], yticklabels=['Mild Autism', 'Moderate Autism', 'Severe Autism'])\n",
        "plt.xlabel('Predicted labels')\n",
        "plt.ylabel('True labels')\n",
        "plt.title('Confusion Matrix')\n",
        "plt.show()\n"
      ]
    },
    {
      "cell_type": "code",
      "execution_count": null,
      "metadata": {
        "id": "6iv8yLOePhLE"
      },
      "outputs": [],
      "source": [
        "import pickle\n",
        "\n",
        "# Save the tokenizer (Make sure you run this cell before trying to load it)\n",
        "with open('tokenizer.pickle', 'wb') as handle:\n",
        "    pickle.dump(tokenizer_lstm, handle, protocol=pickle.HIGHEST_PROTOCOL)\n",
        "\n",
        "# Load the tokenizer\n",
        "with open('tokenizer.pickle', 'rb') as handle:\n",
        "    tokenizer = pickle.load(handle)"
      ]
    },
    {
      "cell_type": "code",
      "execution_count": null,
      "metadata": {
        "colab": {
          "base_uri": "https://localhost:8080/"
        },
        "id": "hofXkZbgPpmz",
        "outputId": "ceee96e9-300f-47d4-9cd0-8eb209ded1f7"
      },
      "outputs": [
        {
          "output_type": "stream",
          "name": "stdout",
          "text": [
            "  adding: tokenizer.pickle (deflated 39%)\n"
          ]
        }
      ],
      "source": [
        "!zip tokenizer.zip tokenizer.pickle"
      ]
    },
    {
      "cell_type": "code",
      "execution_count": null,
      "metadata": {
        "colab": {
          "base_uri": "https://localhost:8080/"
        },
        "id": "I6i9ZqJJwOMS",
        "outputId": "a9f00dbb-4a52-48dd-e72e-875bbe248a3d"
      },
      "outputs": [
        {
          "output_type": "stream",
          "name": "stdout",
          "text": [
            "Archive:  tokenizer.zip\n",
            "replace tokenizer.pickle? [y]es, [n]o, [A]ll, [N]one, [r]ename: "
          ]
        }
      ],
      "source": [
        "!unzip tokenizer.zip  # Décompresse le fichier dans Colab\n",
        "\n",
        "import pickle\n",
        "\n",
        "# Charger le tokenizer\n",
        "with open('tokenizer.pickle', 'rb') as handle:\n",
        "    tokenizer = pickle.load(handle)\n"
      ]
    },
    {
      "cell_type": "code",
      "execution_count": null,
      "metadata": {
        "colab": {
          "base_uri": "https://localhost:8080/"
        },
        "id": "CEho0rtC3s1-",
        "outputId": "6393798f-ebe6-4440-b09e-544d33e85e7e"
      },
      "outputs": [
        {
          "output_type": "stream",
          "name": "stdout",
          "text": [
            "{'and': 1, 'of': 2, 'verbal': 3, 'non': 4, 'lack': 5, 'speech': 6, 'communication': 7, 'not': 8, 'he': 9, 'hyperactive': 10, 'to': 11, 'no': 12, 'attention': 13, 'stimming': 14, 'the': 15, 'at': 16, 'behaviour': 17, 'eye': 18, 'contact': 19, 'his': 20, 'name': 21, 'differences': 22, 'was': 23, 'age': 24, 'nan': 25, 'a': 26, 'she': 27, 'all': 28, 'odd': 29, 'socialization': 30, 'abnormal': 31, 'behaviors': 32, 'respond': 33, 'objects': 34, 'repeatitive': 35, 'hyposensitivity': 36, 'niche': 37, 'interests': 38, 'but': 39, 'on': 40, 'delay': 41, 'sleep': 42, 'command': 43, 'following': 44, 'recognition': 45, 'are': 46, 'zero': 47, 'walk': 48, 'flapping': 49, 'learning': 50, 'hyper': 51, 'behavioral': 52, 'bit': 53, 'hyperactivity': 54, 'is': 55, 'delayed': 56, 'milestones': 57, 'when': 58, 'stopped': 59, 'talking': 60, 'severe': 61, '2': 62, 'social': 63, 'behavior': 64, 'stop': 65, 'from': 66, 'something': 67, 'bad': 68, 'good': 69, 'aggression': 70, 'delays': 71, 'my': 72, 'child': 73, 'repetitive': 74, 'throwing': 75, 'tantrum': 76, 'communicating': 77, 'firling': 78, 'twirling': 79, 'toe': 80, 'only': 81, 'stare': 82, 'laughs': 83, 'cannot': 84, 'move': 85, 'own': 86, 'disability': 87, 'things': 88, 'activenon': 89, 'words': 90, 'nonverbal': 91, 'tip': 92, 'toeing': 93, 'talks': 94, '1': 95, 'then': 96, 'after': 97, 'having': 98, 'fever': 99, 'lacked': 100, 'adhd': 101, 'spinning': 102, 'understanding': 103, 'fumbled': 104, 'word': 105, 'repition': 106, 'ness': 107, 'interested': 108, 'in': 109, 'art': 110, 'crafts': 111, 'music': 112, 'swirling': 113, 'without': 114, 'getting': 115, 'dizzy': 116, 'aque': 117, 'more': 118, 'than': 119, 'tantrums': 120, 'could': 121, 'instructions': 122, 'her': 123, 'these': 124, '7yrs': 125, 'it': 126, 'late': 127, 'class': 128, 'discipline': 129, 'sickness': 130, 'had': 131, 'am': 132, 'sure': 133, 'like': 134, 'can': 135, 'himself': 136, 'communicable': 137, '30': 138, 'months': 139, 'old': 140, 'except': 141, 'sing': 142, 'rhymes': 143, 'very': 144, 'independent': 145, 'rarely': 146, 'call': 147, 'repeatative': 148, 'socializing': 149, 'aggressive': 150, 'does': 151, 'pay': 152, 'proper': 153, 'anything': 154, 'responding': 155, 'calling': 156, 'solitary': 157, 'play': 158, 'lining': 159, 'disturbance': 160, 'unable': 161, 'talk': 162, 'inability': 163, 'eat': 164, 'properly': 165, 'gastrointestinal': 166, 'issues': 167, 'interaction': 168, 'whatsoever': 169, 'time': 170, 'dont': 171, 'know': 172, 'much': 173, 'here': 174, 'throw': 175, 'understand': 176, 'say': 177, 'write': 178, 'before': 179, 'clocked': 180, 'about': 181, 'hasnt': 182, 'regain': 183, 'written': 184, 'skills': 185, 'anymore': 186, 'wandering': 187, 'night': 188, 'actions': 189, 'span': 190, 'mother': 191, 'complaint': 192, 'constant': 193, 'long': 194, 'run': 195, 'doctor': 196, 'put': 197, 'medication': 198, 'explain': 199, 'type': 200, 'which': 201, 'happens': 202, 'be': 203, 'autism': 204, 'walking': 205, 'activities': 206, 'slow': 207, 'poor': 208, 'answering': 209, 'doesnt': 210, 'follow': 211, 'fixation': 212, 'posters': 213, 'calendars': 214, 'with': 215, 'bright': 216, 'colors': 217, 'limited': 218, 'independence': 219, 'fear': 220, 'danger': 221, 'during': 222, 'school': 223, 'entrance': 224, 'interview': 225, 'identified': 226, 'i': 227, 'assumed': 228, 'some': 229, 'normal': 230, 'developmental': 231, 'talikng': 232, 'etc': 233, 'stcking': 234, 'shouitng': 235, 'picky': 236, 'eater': 237, 'did': 238, 'gor': 239, 'close': 240, '2years': 241, 'anf': 242, 'uptill': 243, 'now': 244, 'fully': 245, 'express': 246, 'we': 247, 'do': 248, 'by': 249, 'few': 250}\n"
          ]
        }
      ],
      "source": [
        "# Vérifier que le tokenizer a bien été chargé\n",
        "print(tokenizer.word_index)  # Affiche quelques mots de l'index pour confirmer le chargement\n"
      ]
    },
    {
      "cell_type": "code",
      "execution_count": null,
      "metadata": {
        "colab": {
          "base_uri": "https://localhost:8080/"
        },
        "id": "Qp6_PzLO75f7",
        "outputId": "ff3ee067-c016-4498-89e9-fdad909ce464"
      },
      "outputs": [
        {
          "output_type": "stream",
          "name": "stdout",
          "text": [
            " autism_lstm_model_v2.h5  'Dataset_ for_ Autism_ Diagnosis.xlsx'   sample_data\t tokenizer.pickle\n"
          ]
        }
      ],
      "source": [
        "!ls /content\n"
      ]
    },
    {
      "cell_type": "code",
      "execution_count": null,
      "metadata": {
        "colab": {
          "base_uri": "https://localhost:8080/"
        },
        "id": "iOsY3-FV78gd",
        "outputId": "6755975f-dc51-47ad-9531-b49833e7c32c"
      },
      "outputs": [
        {
          "output_type": "stream",
          "name": "stdout",
          "text": [
            "/content/autism_lstm_model_v2.h5\n"
          ]
        }
      ],
      "source": [
        "from google.colab import drive\n",
        "#drive.mount('/content/drive')\n",
        "\n",
        "# Vérifie que le fichier est là\n",
        "!ls \"/content/autism_lstm_model_v2.h5\"\n"
      ]
    },
    {
      "cell_type": "code",
      "execution_count": null,
      "metadata": {
        "id": "tpcqUc5j8LCm"
      },
      "outputs": [],
      "source": [
        "from keras.models import load_model\n",
        "\n",
        "try:\n",
        "    model = load_model('/content/autism_lstm_model_v2.h5')\n",
        "except OSError as e:\n",
        "    print(\"Le modèle n'a pas pu être chargé. Vérifie le chemin du fichier :\", e)\n"
      ]
    },
    {
      "cell_type": "code",
      "execution_count": null,
      "metadata": {
        "id": "sItyAoDGp12h"
      },
      "outputs": [],
      "source": [
        "from keras.models import load_model\n",
        "\n",
        "try:\n",
        "    model = load_model('/content/autism_lstm_model_v2.h5')\n",
        "except OSError as e:\n",
        "    print(\"Le modèle n'a pas pu être chargé. Vérifie le chemin du fichier :\", e)"
      ]
    },
    {
      "cell_type": "code",
      "execution_count": null,
      "metadata": {
        "colab": {
          "base_uri": "https://localhost:8080/",
          "height": 592,
          "referenced_widgets": [
            "577a64a5541f4386937724fa346114a4",
            "f5db22067a2e4fff8d45e9af6e562919",
            "7ee3d347a20f40e19a5b0790a13b6e71",
            "a877d244b9a74128930213895c3fd79c",
            "fbf9a6fa5aeb4002be865f128be8bb8f",
            "cb23cb1d9af848c796843eae9d6e1532",
            "26b5332e90e243d2aebc50dd0464020d",
            "0915f30482b9457ca480a3445a7dd56a",
            "91e8b15a7f624c9e8542a08300a8c77f",
            "ec6b341a5ece4b32a1749873e2977ab3",
            "290aaeb028f740cc8c6902e2fba60750",
            "694c416e21e84ad0837ad4121ed16588",
            "2ce6ee3d965b490d97ee9089acbf58cf",
            "caa73325aded49cdb98756524d65c252",
            "7759175614ca41159490d34d2eabd460",
            "8865b0ff998148e8becac7aec80636af",
            "5b9ba9605d194990a2dc12129ee1d480",
            "65ead323bd8049a39c7d327534384515"
          ]
        },
        "id": "wuX27Yc98T_G",
        "outputId": "e3f41dda-5893-4f6f-d4f5-9027bd5ffb0f"
      },
      "outputs": [
        {
          "output_type": "stream",
          "name": "stdout",
          "text": [
            "Modèle chargé avec succès.\n"
          ]
        },
        {
          "output_type": "display_data",
          "data": {
            "text/plain": [
              "Textarea(value='', description='Unique Behaviors:', placeholder='Describe behaviors that prompted diagnosis')"
            ],
            "application/vnd.jupyter.widget-view+json": {
              "version_major": 2,
              "version_minor": 0,
              "model_id": "577a64a5541f4386937724fa346114a4"
            }
          },
          "metadata": {}
        },
        {
          "output_type": "display_data",
          "data": {
            "text/plain": [
              "RadioButtons(description='Social deficits:', options=('Mild', 'Moderate', 'Severe'), value='Mild')"
            ],
            "application/vnd.jupyter.widget-view+json": {
              "version_major": 2,
              "version_minor": 0,
              "model_id": "a877d244b9a74128930213895c3fd79c"
            }
          },
          "metadata": {}
        },
        {
          "output_type": "display_data",
          "data": {
            "text/plain": [
              "RadioButtons(description='Nonverbal communication:', options=('Good', 'Poor', 'Very good'), value='Good')"
            ],
            "application/vnd.jupyter.widget-view+json": {
              "version_major": 2,
              "version_minor": 0,
              "model_id": "26b5332e90e243d2aebc50dd0464020d"
            }
          },
          "metadata": {}
        },
        {
          "output_type": "display_data",
          "data": {
            "text/plain": [
              "RadioButtons(description='Can develop relationships:', options=('Yes', 'No', 'Sometimes'), value='Yes')"
            ],
            "application/vnd.jupyter.widget-view+json": {
              "version_major": 2,
              "version_minor": 0,
              "model_id": "ec6b341a5ece4b32a1749873e2977ab3"
            }
          },
          "metadata": {}
        },
        {
          "output_type": "display_data",
          "data": {
            "text/plain": [
              "RadioButtons(description='Sensory reactivity:', options=('Severe', 'Moderate', 'Mild'), value='Severe')"
            ],
            "application/vnd.jupyter.widget-view+json": {
              "version_major": 2,
              "version_minor": 0,
              "model_id": "2ce6ee3d965b490d97ee9089acbf58cf"
            }
          },
          "metadata": {}
        },
        {
          "output_type": "display_data",
          "data": {
            "text/plain": [
              "Button(description='Submit Answers', style=ButtonStyle())"
            ],
            "application/vnd.jupyter.widget-view+json": {
              "version_major": 2,
              "version_minor": 0,
              "model_id": "8865b0ff998148e8becac7aec80636af"
            }
          },
          "metadata": {}
        },
        {
          "output_type": "stream",
          "name": "stdout",
          "text": [
            "1/1 [==============================] - 1s 514ms/step\n",
            "Predicted Level: Moderate Autism\n",
            "1/1 [==============================] - 0s 59ms/step\n",
            "Predicted Level: Moderate Autism\n",
            "1/1 [==============================] - 0s 58ms/step\n",
            "Predicted Level: Moderate Autism\n"
          ]
        }
      ],
      "source": [
        "import ipywidgets as widgets\n",
        "from IPython.display import display\n",
        "from tensorflow.keras.models import load_model\n",
        "from tensorflow.keras.preprocessing.sequence import pad_sequences\n",
        "from sklearn.preprocessing import LabelEncoder\n",
        "import numpy as np\n",
        "\n",
        "# Chargement et préparation du modèle\n",
        "try:\n",
        "    model = load_model('/content/autism_lstm_model_v2.h5')\n",
        "    print(\"Modèle chargé avec succès.\")\n",
        "except Exception as e:\n",
        "    print(f\"Erreur lors du chargement du modèle : {e}\")\n",
        "\n",
        "# Initialisation des LabelEncoder pour les variables catégorielles\n",
        "label_encoder_social = LabelEncoder()\n",
        "label_encoder_nonverbal = LabelEncoder()\n",
        "label_encoder_relationship = LabelEncoder()\n",
        "label_encoder_sensory = LabelEncoder()\n",
        "\n",
        "# Hypothétique liste de catégories connues pour chaque encoder\n",
        "categories_social = ['Mild', 'Moderate', 'Severe']\n",
        "categories_nonverbal = ['Good', 'Poor', 'Very good']\n",
        "categories_relationship = ['Yes', 'No', 'Sometimes']\n",
        "categories_sensory = ['Severe' , 'Moderate', 'Mild']\n",
        "\n",
        "# Entraînement des encoders avec les catégories\n",
        "label_encoder_social.fit(categories_social)\n",
        "label_encoder_nonverbal.fit(categories_nonverbal)\n",
        "label_encoder_relationship.fit(categories_relationship)\n",
        "label_encoder_sensory.fit(categories_sensory)\n",
        "\n",
        "# Définition des widgets pour collecter les réponses\n",
        "unique_behaviors = widgets.Textarea(description='Unique Behaviors:', placeholder='Describe behaviors that prompted diagnosis')\n",
        "social_deficits = widgets.RadioButtons(options=categories_social, description='Social deficits:')\n",
        "nonverbal_communication = widgets.RadioButtons(options=categories_nonverbal, description='Nonverbal communication:')\n",
        "relationships = widgets.RadioButtons(options=categories_relationship, description='Can develop relationships:')\n",
        "sensory_reactivity = widgets.RadioButtons(options=categories_sensory, description='Sensory reactivity:')\n",
        "submit_button = widgets.Button(description=\"Submit Answers\")\n",
        "\n",
        "# Exemple de tokenizer à définir (à remplacer par votre tokenizer réel)\n",
        "from tensorflow.keras.preprocessing.text import Tokenizer\n",
        "tokenizer = Tokenizer(num_words=10000)\n",
        "# Supposons que le tokenizer est déjà entraîné avec les données appropriées\n",
        "\n",
        "# Fonction pour préparer les données avant prédiction\n",
        "def prepare_data(behaviors_text, social_score, nonverbal_score, relationship_status, sensory_score):\n",
        "    cleaned_text = behaviors_text.lower()\n",
        "    tokenized_text = tokenizer.texts_to_sequences([cleaned_text])\n",
        "    padded_text = pad_sequences(tokenized_text, maxlen=50)\n",
        "\n",
        "    social_encoded = label_encoder_social.transform([social_score])[0]\n",
        "    nonverbal_encoded = label_encoder_nonverbal.transform([nonverbal_score])[0]\n",
        "    relationship_encoded = label_encoder_relationship.transform([relationship_status])[0]\n",
        "    sensory_encoded = label_encoder_sensory.transform([sensory_score])[0]\n",
        "\n",
        "    missing_feature = 0  # Placeholder for missing feature\n",
        "\n",
        "    categorical_features = np.array([social_encoded, nonverbal_encoded, relationship_encoded, sensory_encoded, missing_feature]).reshape(1, -1)\n",
        "\n",
        "    return padded_text, categorical_features\n",
        "\n",
        "# Fonction pour gérer le clic sur le bouton de soumission\n",
        "def on_submit_clicked(b):\n",
        "    behaviors_text = unique_behaviors.value\n",
        "    social_score = social_deficits.value\n",
        "    nonverbal_score = nonverbal_communication.value\n",
        "    relationship_status = relationships.value\n",
        "    sensory_score = sensory_reactivity.value\n",
        "\n",
        "    # Préparer les données pour la prédiction\n",
        "    text_input, categorical_input = prepare_data(behaviors_text, social_score, nonverbal_score, relationship_status, sensory_score)\n",
        "\n",
        "    # Faire la prédiction en utilisant le modèle\n",
        "    prediction = model.predict([text_input, categorical_input])\n",
        "    predicted_class = np.argmax(prediction, axis=1)[0]\n",
        "\n",
        "    # Mapping des indices de classe aux niveaux correspondants\n",
        "    levels = ['Mild Autism', 'Moderate Autism', 'Severe Autism']\n",
        "    predicted_level = levels[predicted_class]\n",
        "\n",
        "    # Afficher le niveau prédit\n",
        "    print(\"Predicted Level:\", predicted_level)\n",
        "\n",
        "# Assigner la fonction à l'événement on_click du bouton\n",
        "submit_button.on_click(on_submit_clicked)\n",
        "\n",
        "# Affichage des widgets\n",
        "display(unique_behaviors, social_deficits, nonverbal_communication, relationships, sensory_reactivity, submit_button)\n"
      ]
    },
    {
      "cell_type": "code",
      "source": [
        "import ipywidgets as widgets\n",
        "from IPython.display import display, clear_output\n",
        "import re\n",
        "import numpy as np\n",
        "from tensorflow.keras.models import load_model\n",
        "from tensorflow.keras.preprocessing.sequence import pad_sequences\n",
        "\n",
        "# Charger le modèle LSTM pré-entraîné\n",
        "model = load_model('/content/autism_lstm_model_v2.h5')\n",
        "\n",
        "# Exemple de tokenizer à définir (à remplacer par votre tokenizer réel)\n",
        "from tensorflow.keras.preprocessing.text import Tokenizer\n",
        "tokenizer = Tokenizer(num_words=2000)\n",
        "# Supposons que le tokenizer est déjà entraîné avec les données appropriées\n",
        "\n",
        "# Fonction de nettoyage du texte\n",
        "def clean_text(text):\n",
        "    text = re.sub('[^a-zA-Z0-9\\s]', '', str(text).lower())\n",
        "    return text\n",
        "\n",
        "# Fonction pour préparer les données avant prédiction\n",
        "def prepare_data(behaviors_text):\n",
        "    processed_text = clean_text(behaviors_text)\n",
        "    sequence = tokenizer.texts_to_sequences([processed_text])\n",
        "    padded_sequence = pad_sequences(sequence, maxlen=50)\n",
        "    return padded_sequence\n",
        "\n",
        "# Fonction pour prédire le niveau d'autisme\n",
        "def predict_autism_level(behaviors_text):\n",
        "    padded_sequence = prepare_data(behaviors_text)\n",
        "    prediction = model.predict(padded_sequence)\n",
        "    level = np.argmax(prediction, axis=1)[0]\n",
        "    if level == 0:\n",
        "        return \"Level 1 (Mild Autism)\"\n",
        "    elif level == 1:\n",
        "        return \"Level 2 (Moderate Autism)\"\n",
        "    elif level == 2:\n",
        "        return \"Level 3 (Severe Autism)\"\n",
        "\n",
        "# Créer les widgets pour chaque question\n",
        "question_widgets = {\n",
        "    \"unique_behaviors\": widgets.Textarea(\n",
        "        placeholder='Describe unique behaviors...',\n",
        "        description='Behaviors:',\n",
        "        layout=widgets.Layout(width='100%', height='100px')\n",
        "    )\n",
        "}\n",
        "\n",
        "submit_button = widgets.Button(description=\"Submit\")\n",
        "output = widgets.Output()\n",
        "\n",
        "# Fonction pour traiter le clic sur le bouton\n",
        "def on_submit_button_clicked(b):\n",
        "    with output:\n",
        "        clear_output()\n",
        "        # Collecter les réponses\n",
        "        behaviors_text = question_widgets[\"unique_behaviors\"].value\n",
        "        # Utiliser les comportements uniques pour la prédiction\n",
        "        result = predict_autism_level(behaviors_text)\n",
        "        print(f'Diagnosis Result: {result}')\n",
        "        print(\"Behavior Description:\")\n",
        "        print(f\"{behaviors_text}\")\n",
        "\n",
        "submit_button.on_click(on_submit_button_clicked)\n",
        "\n",
        "# Afficher les questions et le bouton de soumission\n",
        "display(question_widgets[\"unique_behaviors\"], submit_button, output)\n"
      ],
      "metadata": {
        "colab": {
          "base_uri": "https://localhost:8080/",
          "height": 173,
          "referenced_widgets": [
            "87d3d4dd73204bf99f9b6417e5e27202",
            "7e4b784d4dd441f382c331b4b654c3a7",
            "c285c2da17c64e04a8ea7cf5257155db",
            "79ebbc1b90fb476eb4342dfce0639bf7",
            "77e310859ca746669a1e26595375d2b3",
            "2780a9e6c00d43a1b495809e6a109ee3",
            "8f4d179a287544aaa9fc0b6a340ebdf3",
            "80cda2ce29544a60ab12fa8429494592"
          ]
        },
        "id": "8VU5F6IRx0Mv",
        "outputId": "8c3a4853-67a5-4c02-f1b0-a5b57d883981"
      },
      "execution_count": null,
      "outputs": [
        {
          "output_type": "display_data",
          "data": {
            "text/plain": [
              "Textarea(value='', description='Behaviors:', layout=Layout(height='100px', width='100%'), placeholder='Describ…"
            ],
            "application/vnd.jupyter.widget-view+json": {
              "version_major": 2,
              "version_minor": 0,
              "model_id": "87d3d4dd73204bf99f9b6417e5e27202"
            }
          },
          "metadata": {}
        },
        {
          "output_type": "display_data",
          "data": {
            "text/plain": [
              "Button(description='Submit', style=ButtonStyle())"
            ],
            "application/vnd.jupyter.widget-view+json": {
              "version_major": 2,
              "version_minor": 0,
              "model_id": "79ebbc1b90fb476eb4342dfce0639bf7"
            }
          },
          "metadata": {}
        },
        {
          "output_type": "display_data",
          "data": {
            "text/plain": [
              "Output()"
            ],
            "application/vnd.jupyter.widget-view+json": {
              "version_major": 2,
              "version_minor": 0,
              "model_id": "8f4d179a287544aaa9fc0b6a340ebdf3"
            }
          },
          "metadata": {}
        }
      ]
    },
    {
      "cell_type": "code",
      "execution_count": null,
      "metadata": {
        "colab": {
          "base_uri": "https://localhost:8080/"
        },
        "id": "DNMaKmA5CShI",
        "outputId": "5f5f4426-2c6a-4a77-a799-be9d219e0480"
      },
      "outputs": [
        {
          "output_type": "stream",
          "name": "stdout",
          "text": [
            "1/1 [==============================] - 0s 86ms/step\n",
            "Predicted Autism Level: 2\n"
          ]
        }
      ],
      "source": [
        "example = {\n",
        "    \"behaviors_text\": \"He only stare and laughs but cannot move on his own , he has friends and he talk alot\",\n",
        "    \"social_score\": \"Mild\",\n",
        "    \"nonverbal_score\": \"Very good\",\n",
        "    \"relationship_status\": \"Yes\",\n",
        "    \"sensory_score\": \"Mild\"\n",
        "}\n",
        "\n",
        "# Préparer les données et faire la prédiction\n",
        "prepared_text, prepared_features = prepare_data(\n",
        "    example[\"behaviors_text\"],\n",
        "    example[\"social_score\"],\n",
        "    example[\"nonverbal_score\"],\n",
        "    example[\"relationship_status\"],\n",
        "    example[\"sensory_score\"]\n",
        ")\n",
        "prediction_input = [prepared_text.reshape(1, -1), prepared_features.reshape(1, -1)]\n",
        "prediction = model.predict(prediction_input)\n",
        "print(\"Predicted Autism Level:\", np.argmax(prediction)+1)"
      ]
    },
    {
      "cell_type": "code",
      "source": [],
      "metadata": {
        "id": "k2kJD6zyx1jJ"
      },
      "execution_count": null,
      "outputs": []
    }
  ],
  "metadata": {
    "colab": {
      "provenance": [],
      "include_colab_link": true
    },
    "kernelspec": {
      "display_name": "Python 3",
      "name": "python3"
    },
    "language_info": {
      "name": "python"
    },
    "widgets": {
      "application/vnd.jupyter.widget-state+json": {
        "87d3d4dd73204bf99f9b6417e5e27202": {
          "model_module": "@jupyter-widgets/controls",
          "model_name": "TextareaModel",
          "model_module_version": "1.5.0",
          "state": {
            "_dom_classes": [],
            "_model_module": "@jupyter-widgets/controls",
            "_model_module_version": "1.5.0",
            "_model_name": "TextareaModel",
            "_view_count": null,
            "_view_module": "@jupyter-widgets/controls",
            "_view_module_version": "1.5.0",
            "_view_name": "TextareaView",
            "continuous_update": true,
            "description": "Behaviors:",
            "description_tooltip": null,
            "disabled": false,
            "layout": "IPY_MODEL_7e4b784d4dd441f382c331b4b654c3a7",
            "placeholder": "Describe unique behaviors...",
            "rows": null,
            "style": "IPY_MODEL_c285c2da17c64e04a8ea7cf5257155db",
            "value": ""
          }
        },
        "7e4b784d4dd441f382c331b4b654c3a7": {
          "model_module": "@jupyter-widgets/base",
          "model_name": "LayoutModel",
          "model_module_version": "1.2.0",
          "state": {
            "_model_module": "@jupyter-widgets/base",
            "_model_module_version": "1.2.0",
            "_model_name": "LayoutModel",
            "_view_count": null,
            "_view_module": "@jupyter-widgets/base",
            "_view_module_version": "1.2.0",
            "_view_name": "LayoutView",
            "align_content": null,
            "align_items": null,
            "align_self": null,
            "border": null,
            "bottom": null,
            "display": null,
            "flex": null,
            "flex_flow": null,
            "grid_area": null,
            "grid_auto_columns": null,
            "grid_auto_flow": null,
            "grid_auto_rows": null,
            "grid_column": null,
            "grid_gap": null,
            "grid_row": null,
            "grid_template_areas": null,
            "grid_template_columns": null,
            "grid_template_rows": null,
            "height": "100px",
            "justify_content": null,
            "justify_items": null,
            "left": null,
            "margin": null,
            "max_height": null,
            "max_width": null,
            "min_height": null,
            "min_width": null,
            "object_fit": null,
            "object_position": null,
            "order": null,
            "overflow": null,
            "overflow_x": null,
            "overflow_y": null,
            "padding": null,
            "right": null,
            "top": null,
            "visibility": null,
            "width": "100%"
          }
        },
        "c285c2da17c64e04a8ea7cf5257155db": {
          "model_module": "@jupyter-widgets/controls",
          "model_name": "DescriptionStyleModel",
          "model_module_version": "1.5.0",
          "state": {
            "_model_module": "@jupyter-widgets/controls",
            "_model_module_version": "1.5.0",
            "_model_name": "DescriptionStyleModel",
            "_view_count": null,
            "_view_module": "@jupyter-widgets/base",
            "_view_module_version": "1.2.0",
            "_view_name": "StyleView",
            "description_width": ""
          }
        },
        "79ebbc1b90fb476eb4342dfce0639bf7": {
          "model_module": "@jupyter-widgets/controls",
          "model_name": "ButtonModel",
          "model_module_version": "1.5.0",
          "state": {
            "_dom_classes": [],
            "_model_module": "@jupyter-widgets/controls",
            "_model_module_version": "1.5.0",
            "_model_name": "ButtonModel",
            "_view_count": null,
            "_view_module": "@jupyter-widgets/controls",
            "_view_module_version": "1.5.0",
            "_view_name": "ButtonView",
            "button_style": "",
            "description": "Submit",
            "disabled": false,
            "icon": "",
            "layout": "IPY_MODEL_77e310859ca746669a1e26595375d2b3",
            "style": "IPY_MODEL_2780a9e6c00d43a1b495809e6a109ee3",
            "tooltip": ""
          }
        },
        "77e310859ca746669a1e26595375d2b3": {
          "model_module": "@jupyter-widgets/base",
          "model_name": "LayoutModel",
          "model_module_version": "1.2.0",
          "state": {
            "_model_module": "@jupyter-widgets/base",
            "_model_module_version": "1.2.0",
            "_model_name": "LayoutModel",
            "_view_count": null,
            "_view_module": "@jupyter-widgets/base",
            "_view_module_version": "1.2.0",
            "_view_name": "LayoutView",
            "align_content": null,
            "align_items": null,
            "align_self": null,
            "border": null,
            "bottom": null,
            "display": null,
            "flex": null,
            "flex_flow": null,
            "grid_area": null,
            "grid_auto_columns": null,
            "grid_auto_flow": null,
            "grid_auto_rows": null,
            "grid_column": null,
            "grid_gap": null,
            "grid_row": null,
            "grid_template_areas": null,
            "grid_template_columns": null,
            "grid_template_rows": null,
            "height": null,
            "justify_content": null,
            "justify_items": null,
            "left": null,
            "margin": null,
            "max_height": null,
            "max_width": null,
            "min_height": null,
            "min_width": null,
            "object_fit": null,
            "object_position": null,
            "order": null,
            "overflow": null,
            "overflow_x": null,
            "overflow_y": null,
            "padding": null,
            "right": null,
            "top": null,
            "visibility": null,
            "width": null
          }
        },
        "2780a9e6c00d43a1b495809e6a109ee3": {
          "model_module": "@jupyter-widgets/controls",
          "model_name": "ButtonStyleModel",
          "model_module_version": "1.5.0",
          "state": {
            "_model_module": "@jupyter-widgets/controls",
            "_model_module_version": "1.5.0",
            "_model_name": "ButtonStyleModel",
            "_view_count": null,
            "_view_module": "@jupyter-widgets/base",
            "_view_module_version": "1.2.0",
            "_view_name": "StyleView",
            "button_color": null,
            "font_weight": ""
          }
        },
        "8f4d179a287544aaa9fc0b6a340ebdf3": {
          "model_module": "@jupyter-widgets/output",
          "model_name": "OutputModel",
          "model_module_version": "1.0.0",
          "state": {
            "_dom_classes": [],
            "_model_module": "@jupyter-widgets/output",
            "_model_module_version": "1.0.0",
            "_model_name": "OutputModel",
            "_view_count": null,
            "_view_module": "@jupyter-widgets/output",
            "_view_module_version": "1.0.0",
            "_view_name": "OutputView",
            "layout": "IPY_MODEL_80cda2ce29544a60ab12fa8429494592",
            "msg_id": "",
            "outputs": []
          }
        },
        "80cda2ce29544a60ab12fa8429494592": {
          "model_module": "@jupyter-widgets/base",
          "model_name": "LayoutModel",
          "model_module_version": "1.2.0",
          "state": {
            "_model_module": "@jupyter-widgets/base",
            "_model_module_version": "1.2.0",
            "_model_name": "LayoutModel",
            "_view_count": null,
            "_view_module": "@jupyter-widgets/base",
            "_view_module_version": "1.2.0",
            "_view_name": "LayoutView",
            "align_content": null,
            "align_items": null,
            "align_self": null,
            "border": null,
            "bottom": null,
            "display": null,
            "flex": null,
            "flex_flow": null,
            "grid_area": null,
            "grid_auto_columns": null,
            "grid_auto_flow": null,
            "grid_auto_rows": null,
            "grid_column": null,
            "grid_gap": null,
            "grid_row": null,
            "grid_template_areas": null,
            "grid_template_columns": null,
            "grid_template_rows": null,
            "height": null,
            "justify_content": null,
            "justify_items": null,
            "left": null,
            "margin": null,
            "max_height": null,
            "max_width": null,
            "min_height": null,
            "min_width": null,
            "object_fit": null,
            "object_position": null,
            "order": null,
            "overflow": null,
            "overflow_x": null,
            "overflow_y": null,
            "padding": null,
            "right": null,
            "top": null,
            "visibility": null,
            "width": null
          }
        },
        "577a64a5541f4386937724fa346114a4": {
          "model_module": "@jupyter-widgets/controls",
          "model_name": "TextareaModel",
          "model_module_version": "1.5.0",
          "state": {
            "_dom_classes": [],
            "_model_module": "@jupyter-widgets/controls",
            "_model_module_version": "1.5.0",
            "_model_name": "TextareaModel",
            "_view_count": null,
            "_view_module": "@jupyter-widgets/controls",
            "_view_module_version": "1.5.0",
            "_view_name": "TextareaView",
            "continuous_update": true,
            "description": "Unique Behaviors:",
            "description_tooltip": null,
            "disabled": false,
            "layout": "IPY_MODEL_f5db22067a2e4fff8d45e9af6e562919",
            "placeholder": "Describe behaviors that prompted diagnosis",
            "rows": null,
            "style": "IPY_MODEL_7ee3d347a20f40e19a5b0790a13b6e71",
            "value": "gvdjdvjadhb hfbhfbawjhb kabkwbhawbfaw kfbawkfbkfbkfb kanfjkawnfakj"
          }
        },
        "f5db22067a2e4fff8d45e9af6e562919": {
          "model_module": "@jupyter-widgets/base",
          "model_name": "LayoutModel",
          "model_module_version": "1.2.0",
          "state": {
            "_model_module": "@jupyter-widgets/base",
            "_model_module_version": "1.2.0",
            "_model_name": "LayoutModel",
            "_view_count": null,
            "_view_module": "@jupyter-widgets/base",
            "_view_module_version": "1.2.0",
            "_view_name": "LayoutView",
            "align_content": null,
            "align_items": null,
            "align_self": null,
            "border": null,
            "bottom": null,
            "display": null,
            "flex": null,
            "flex_flow": null,
            "grid_area": null,
            "grid_auto_columns": null,
            "grid_auto_flow": null,
            "grid_auto_rows": null,
            "grid_column": null,
            "grid_gap": null,
            "grid_row": null,
            "grid_template_areas": null,
            "grid_template_columns": null,
            "grid_template_rows": null,
            "height": null,
            "justify_content": null,
            "justify_items": null,
            "left": null,
            "margin": null,
            "max_height": null,
            "max_width": null,
            "min_height": null,
            "min_width": null,
            "object_fit": null,
            "object_position": null,
            "order": null,
            "overflow": null,
            "overflow_x": null,
            "overflow_y": null,
            "padding": null,
            "right": null,
            "top": null,
            "visibility": null,
            "width": null
          }
        },
        "7ee3d347a20f40e19a5b0790a13b6e71": {
          "model_module": "@jupyter-widgets/controls",
          "model_name": "DescriptionStyleModel",
          "model_module_version": "1.5.0",
          "state": {
            "_model_module": "@jupyter-widgets/controls",
            "_model_module_version": "1.5.0",
            "_model_name": "DescriptionStyleModel",
            "_view_count": null,
            "_view_module": "@jupyter-widgets/base",
            "_view_module_version": "1.2.0",
            "_view_name": "StyleView",
            "description_width": ""
          }
        },
        "a877d244b9a74128930213895c3fd79c": {
          "model_module": "@jupyter-widgets/controls",
          "model_name": "RadioButtonsModel",
          "model_module_version": "1.5.0",
          "state": {
            "_dom_classes": [],
            "_model_module": "@jupyter-widgets/controls",
            "_model_module_version": "1.5.0",
            "_model_name": "RadioButtonsModel",
            "_options_labels": [
              "Mild",
              "Moderate",
              "Severe"
            ],
            "_view_count": null,
            "_view_module": "@jupyter-widgets/controls",
            "_view_module_version": "1.5.0",
            "_view_name": "RadioButtonsView",
            "description": "Social deficits:",
            "description_tooltip": null,
            "disabled": false,
            "index": 2,
            "layout": "IPY_MODEL_fbf9a6fa5aeb4002be865f128be8bb8f",
            "style": "IPY_MODEL_cb23cb1d9af848c796843eae9d6e1532"
          }
        },
        "fbf9a6fa5aeb4002be865f128be8bb8f": {
          "model_module": "@jupyter-widgets/base",
          "model_name": "LayoutModel",
          "model_module_version": "1.2.0",
          "state": {
            "_model_module": "@jupyter-widgets/base",
            "_model_module_version": "1.2.0",
            "_model_name": "LayoutModel",
            "_view_count": null,
            "_view_module": "@jupyter-widgets/base",
            "_view_module_version": "1.2.0",
            "_view_name": "LayoutView",
            "align_content": null,
            "align_items": null,
            "align_self": null,
            "border": null,
            "bottom": null,
            "display": null,
            "flex": null,
            "flex_flow": null,
            "grid_area": null,
            "grid_auto_columns": null,
            "grid_auto_flow": null,
            "grid_auto_rows": null,
            "grid_column": null,
            "grid_gap": null,
            "grid_row": null,
            "grid_template_areas": null,
            "grid_template_columns": null,
            "grid_template_rows": null,
            "height": null,
            "justify_content": null,
            "justify_items": null,
            "left": null,
            "margin": null,
            "max_height": null,
            "max_width": null,
            "min_height": null,
            "min_width": null,
            "object_fit": null,
            "object_position": null,
            "order": null,
            "overflow": null,
            "overflow_x": null,
            "overflow_y": null,
            "padding": null,
            "right": null,
            "top": null,
            "visibility": null,
            "width": null
          }
        },
        "cb23cb1d9af848c796843eae9d6e1532": {
          "model_module": "@jupyter-widgets/controls",
          "model_name": "DescriptionStyleModel",
          "model_module_version": "1.5.0",
          "state": {
            "_model_module": "@jupyter-widgets/controls",
            "_model_module_version": "1.5.0",
            "_model_name": "DescriptionStyleModel",
            "_view_count": null,
            "_view_module": "@jupyter-widgets/base",
            "_view_module_version": "1.2.0",
            "_view_name": "StyleView",
            "description_width": ""
          }
        },
        "26b5332e90e243d2aebc50dd0464020d": {
          "model_module": "@jupyter-widgets/controls",
          "model_name": "RadioButtonsModel",
          "model_module_version": "1.5.0",
          "state": {
            "_dom_classes": [],
            "_model_module": "@jupyter-widgets/controls",
            "_model_module_version": "1.5.0",
            "_model_name": "RadioButtonsModel",
            "_options_labels": [
              "Good",
              "Poor",
              "Very good"
            ],
            "_view_count": null,
            "_view_module": "@jupyter-widgets/controls",
            "_view_module_version": "1.5.0",
            "_view_name": "RadioButtonsView",
            "description": "Nonverbal communication:",
            "description_tooltip": null,
            "disabled": false,
            "index": 1,
            "layout": "IPY_MODEL_0915f30482b9457ca480a3445a7dd56a",
            "style": "IPY_MODEL_91e8b15a7f624c9e8542a08300a8c77f"
          }
        },
        "0915f30482b9457ca480a3445a7dd56a": {
          "model_module": "@jupyter-widgets/base",
          "model_name": "LayoutModel",
          "model_module_version": "1.2.0",
          "state": {
            "_model_module": "@jupyter-widgets/base",
            "_model_module_version": "1.2.0",
            "_model_name": "LayoutModel",
            "_view_count": null,
            "_view_module": "@jupyter-widgets/base",
            "_view_module_version": "1.2.0",
            "_view_name": "LayoutView",
            "align_content": null,
            "align_items": null,
            "align_self": null,
            "border": null,
            "bottom": null,
            "display": null,
            "flex": null,
            "flex_flow": null,
            "grid_area": null,
            "grid_auto_columns": null,
            "grid_auto_flow": null,
            "grid_auto_rows": null,
            "grid_column": null,
            "grid_gap": null,
            "grid_row": null,
            "grid_template_areas": null,
            "grid_template_columns": null,
            "grid_template_rows": null,
            "height": null,
            "justify_content": null,
            "justify_items": null,
            "left": null,
            "margin": null,
            "max_height": null,
            "max_width": null,
            "min_height": null,
            "min_width": null,
            "object_fit": null,
            "object_position": null,
            "order": null,
            "overflow": null,
            "overflow_x": null,
            "overflow_y": null,
            "padding": null,
            "right": null,
            "top": null,
            "visibility": null,
            "width": null
          }
        },
        "91e8b15a7f624c9e8542a08300a8c77f": {
          "model_module": "@jupyter-widgets/controls",
          "model_name": "DescriptionStyleModel",
          "model_module_version": "1.5.0",
          "state": {
            "_model_module": "@jupyter-widgets/controls",
            "_model_module_version": "1.5.0",
            "_model_name": "DescriptionStyleModel",
            "_view_count": null,
            "_view_module": "@jupyter-widgets/base",
            "_view_module_version": "1.2.0",
            "_view_name": "StyleView",
            "description_width": ""
          }
        },
        "ec6b341a5ece4b32a1749873e2977ab3": {
          "model_module": "@jupyter-widgets/controls",
          "model_name": "RadioButtonsModel",
          "model_module_version": "1.5.0",
          "state": {
            "_dom_classes": [],
            "_model_module": "@jupyter-widgets/controls",
            "_model_module_version": "1.5.0",
            "_model_name": "RadioButtonsModel",
            "_options_labels": [
              "Yes",
              "No",
              "Sometimes"
            ],
            "_view_count": null,
            "_view_module": "@jupyter-widgets/controls",
            "_view_module_version": "1.5.0",
            "_view_name": "RadioButtonsView",
            "description": "Can develop relationships:",
            "description_tooltip": null,
            "disabled": false,
            "index": 1,
            "layout": "IPY_MODEL_290aaeb028f740cc8c6902e2fba60750",
            "style": "IPY_MODEL_694c416e21e84ad0837ad4121ed16588"
          }
        },
        "290aaeb028f740cc8c6902e2fba60750": {
          "model_module": "@jupyter-widgets/base",
          "model_name": "LayoutModel",
          "model_module_version": "1.2.0",
          "state": {
            "_model_module": "@jupyter-widgets/base",
            "_model_module_version": "1.2.0",
            "_model_name": "LayoutModel",
            "_view_count": null,
            "_view_module": "@jupyter-widgets/base",
            "_view_module_version": "1.2.0",
            "_view_name": "LayoutView",
            "align_content": null,
            "align_items": null,
            "align_self": null,
            "border": null,
            "bottom": null,
            "display": null,
            "flex": null,
            "flex_flow": null,
            "grid_area": null,
            "grid_auto_columns": null,
            "grid_auto_flow": null,
            "grid_auto_rows": null,
            "grid_column": null,
            "grid_gap": null,
            "grid_row": null,
            "grid_template_areas": null,
            "grid_template_columns": null,
            "grid_template_rows": null,
            "height": null,
            "justify_content": null,
            "justify_items": null,
            "left": null,
            "margin": null,
            "max_height": null,
            "max_width": null,
            "min_height": null,
            "min_width": null,
            "object_fit": null,
            "object_position": null,
            "order": null,
            "overflow": null,
            "overflow_x": null,
            "overflow_y": null,
            "padding": null,
            "right": null,
            "top": null,
            "visibility": null,
            "width": null
          }
        },
        "694c416e21e84ad0837ad4121ed16588": {
          "model_module": "@jupyter-widgets/controls",
          "model_name": "DescriptionStyleModel",
          "model_module_version": "1.5.0",
          "state": {
            "_model_module": "@jupyter-widgets/controls",
            "_model_module_version": "1.5.0",
            "_model_name": "DescriptionStyleModel",
            "_view_count": null,
            "_view_module": "@jupyter-widgets/base",
            "_view_module_version": "1.2.0",
            "_view_name": "StyleView",
            "description_width": ""
          }
        },
        "2ce6ee3d965b490d97ee9089acbf58cf": {
          "model_module": "@jupyter-widgets/controls",
          "model_name": "RadioButtonsModel",
          "model_module_version": "1.5.0",
          "state": {
            "_dom_classes": [],
            "_model_module": "@jupyter-widgets/controls",
            "_model_module_version": "1.5.0",
            "_model_name": "RadioButtonsModel",
            "_options_labels": [
              "Severe",
              "Moderate",
              "Mild"
            ],
            "_view_count": null,
            "_view_module": "@jupyter-widgets/controls",
            "_view_module_version": "1.5.0",
            "_view_name": "RadioButtonsView",
            "description": "Sensory reactivity:",
            "description_tooltip": null,
            "disabled": false,
            "index": 0,
            "layout": "IPY_MODEL_caa73325aded49cdb98756524d65c252",
            "style": "IPY_MODEL_7759175614ca41159490d34d2eabd460"
          }
        },
        "caa73325aded49cdb98756524d65c252": {
          "model_module": "@jupyter-widgets/base",
          "model_name": "LayoutModel",
          "model_module_version": "1.2.0",
          "state": {
            "_model_module": "@jupyter-widgets/base",
            "_model_module_version": "1.2.0",
            "_model_name": "LayoutModel",
            "_view_count": null,
            "_view_module": "@jupyter-widgets/base",
            "_view_module_version": "1.2.0",
            "_view_name": "LayoutView",
            "align_content": null,
            "align_items": null,
            "align_self": null,
            "border": null,
            "bottom": null,
            "display": null,
            "flex": null,
            "flex_flow": null,
            "grid_area": null,
            "grid_auto_columns": null,
            "grid_auto_flow": null,
            "grid_auto_rows": null,
            "grid_column": null,
            "grid_gap": null,
            "grid_row": null,
            "grid_template_areas": null,
            "grid_template_columns": null,
            "grid_template_rows": null,
            "height": null,
            "justify_content": null,
            "justify_items": null,
            "left": null,
            "margin": null,
            "max_height": null,
            "max_width": null,
            "min_height": null,
            "min_width": null,
            "object_fit": null,
            "object_position": null,
            "order": null,
            "overflow": null,
            "overflow_x": null,
            "overflow_y": null,
            "padding": null,
            "right": null,
            "top": null,
            "visibility": null,
            "width": null
          }
        },
        "7759175614ca41159490d34d2eabd460": {
          "model_module": "@jupyter-widgets/controls",
          "model_name": "DescriptionStyleModel",
          "model_module_version": "1.5.0",
          "state": {
            "_model_module": "@jupyter-widgets/controls",
            "_model_module_version": "1.5.0",
            "_model_name": "DescriptionStyleModel",
            "_view_count": null,
            "_view_module": "@jupyter-widgets/base",
            "_view_module_version": "1.2.0",
            "_view_name": "StyleView",
            "description_width": ""
          }
        },
        "8865b0ff998148e8becac7aec80636af": {
          "model_module": "@jupyter-widgets/controls",
          "model_name": "ButtonModel",
          "model_module_version": "1.5.0",
          "state": {
            "_dom_classes": [],
            "_model_module": "@jupyter-widgets/controls",
            "_model_module_version": "1.5.0",
            "_model_name": "ButtonModel",
            "_view_count": null,
            "_view_module": "@jupyter-widgets/controls",
            "_view_module_version": "1.5.0",
            "_view_name": "ButtonView",
            "button_style": "",
            "description": "Submit Answers",
            "disabled": false,
            "icon": "",
            "layout": "IPY_MODEL_5b9ba9605d194990a2dc12129ee1d480",
            "style": "IPY_MODEL_65ead323bd8049a39c7d327534384515",
            "tooltip": ""
          }
        },
        "5b9ba9605d194990a2dc12129ee1d480": {
          "model_module": "@jupyter-widgets/base",
          "model_name": "LayoutModel",
          "model_module_version": "1.2.0",
          "state": {
            "_model_module": "@jupyter-widgets/base",
            "_model_module_version": "1.2.0",
            "_model_name": "LayoutModel",
            "_view_count": null,
            "_view_module": "@jupyter-widgets/base",
            "_view_module_version": "1.2.0",
            "_view_name": "LayoutView",
            "align_content": null,
            "align_items": null,
            "align_self": null,
            "border": null,
            "bottom": null,
            "display": null,
            "flex": null,
            "flex_flow": null,
            "grid_area": null,
            "grid_auto_columns": null,
            "grid_auto_flow": null,
            "grid_auto_rows": null,
            "grid_column": null,
            "grid_gap": null,
            "grid_row": null,
            "grid_template_areas": null,
            "grid_template_columns": null,
            "grid_template_rows": null,
            "height": null,
            "justify_content": null,
            "justify_items": null,
            "left": null,
            "margin": null,
            "max_height": null,
            "max_width": null,
            "min_height": null,
            "min_width": null,
            "object_fit": null,
            "object_position": null,
            "order": null,
            "overflow": null,
            "overflow_x": null,
            "overflow_y": null,
            "padding": null,
            "right": null,
            "top": null,
            "visibility": null,
            "width": null
          }
        },
        "65ead323bd8049a39c7d327534384515": {
          "model_module": "@jupyter-widgets/controls",
          "model_name": "ButtonStyleModel",
          "model_module_version": "1.5.0",
          "state": {
            "_model_module": "@jupyter-widgets/controls",
            "_model_module_version": "1.5.0",
            "_model_name": "ButtonStyleModel",
            "_view_count": null,
            "_view_module": "@jupyter-widgets/base",
            "_view_module_version": "1.2.0",
            "_view_name": "StyleView",
            "button_color": null,
            "font_weight": ""
          }
        }
      }
    }
  },
  "nbformat": 4,
  "nbformat_minor": 0
}